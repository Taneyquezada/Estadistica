{
  "nbformat": 4,
  "nbformat_minor": 0,
  "metadata": {
    "colab": {
      "provenance": [],
      "toc_visible": true,
      "authorship_tag": "ABX9TyNQ/byCLBUkn6b43SuflEK0",
      "include_colab_link": true
    },
    "kernelspec": {
      "name": "python3",
      "display_name": "Python 3"
    },
    "language_info": {
      "name": "python"
    }
  },
  "cells": [
    {
      "cell_type": "markdown",
      "metadata": {
        "id": "view-in-github",
        "colab_type": "text"
      },
      "source": [
        "<a href=\"https://colab.research.google.com/github/Taneyquezada/Estadistica/blob/main/eii_u1_p_22150442.ipynb\" target=\"_parent\"><img src=\"https://colab.research.google.com/assets/colab-badge.svg\" alt=\"Open In Colab\"/></a>"
      ]
    },
    {
      "cell_type": "markdown",
      "source": [
        "TECNOLÓGICO NACIONAL DE MÉXICO\n",
        "\n",
        "INSTITUTO TECNOLÓGICO DE AGUASCALIENTES\n",
        "\n",
        "INGENIERÍA EN GESTIÓN EMPRESARIAL\n",
        "\n",
        "**Estadística Inferencial II**\n",
        "\n",
        "**Proyecto U1**\n",
        "\n",
        "Docente: José Cruz Muñoz Esparza\n",
        "\n",
        "Alumna: Patricia Taney Quezada Zúñiga\n",
        "\n",
        "No. de control: 22150442\n",
        "\n",
        "13 de Marzo de 2025\n"
      ],
      "metadata": {
        "id": "NYfup4D1ytsX"
      }
    },
    {
      "cell_type": "markdown",
      "source": [
        "#**INTRODUCCIÓN**\n",
        "\n",
        "Este trabajo tiene como objetivo aplicar los conocimientos adquiridos en la primera unidad de la materia, centrándose en el análisis de relaciones entre variables mediante herramientas estadísticas. Para ello, se calcularán el coeficiente de determinación y el coeficiente de correlación, los cuales permiten medir la fuerza y dirección de la relación entre dos variables. Además, se elaborará un diagrama de dispersión para visualizar la distribución de los datos y se analizarán las suposiciones de una regresión lineal simple. Finalmente, se interpretarán los resultados obtenidos a partir de los cálculos, con el propósito de comprender mejor la importancia de estos conceptos en el análisis de datos y su aplicación en la toma de decisiones."
      ],
      "metadata": {
        "id": "F7ZYDBd99ca6"
      }
    },
    {
      "cell_type": "markdown",
      "source": [
        "#**MARCO TEÓRICO**\n",
        "\n",
        "Este proyecto se basa en la base de datos siguiente https://raw.githubusercontent.com/Taneyquezada/Estadistica/refs/heads/main/Global_Music_Streaming_Listener_Preferences.csv\n",
        "\n",
        "La base de datos habla sobre la edad, país, genero principal de música que escuchan, minutos escuchados, numero de canciones en me gusta, artista más escuchado, tipo de suscripción que manejan, tiempo en que escuchan música, descubrimientos semanales y porcentaje de canciones repetidas de las personas que utilizan plataformas digitales para escuchar música (Tidal, Deezer, Youtube Music, Amazon Music, Apple Music y Spotify).\n",
        "\n",
        "**¿Qué es una plataforma digital de música?**\n",
        "\n",
        "Es un servicio en linea que permite escuchar música sin necesidad de dercargar archivos.\n",
        "\n",
        "Ofrecen una amplia gama de contenido musical, permiten crear bibliotecas personalizadas, descubrir nueva música, crear y compartir listas de reproducción, reproducir música en tiempo real y en cualquier dispositivo, al igual que dependiendo de la suscripción que tengas cpn la plataforma digital de tu preferencia, escuchar música sin necesidad de tener conexión Wi-Fi.\n",
        "\n",
        "El estudio de las preferencias de los oyentes de música en plataformas de streaming es importante para comprender a la audiencia, mejorar la experiencia del usuario y promover la diversidad musical.\n",
        "\n",
        "**¿Cómo ayuda a los artistas las plataformas digitales?**\n",
        "\n",
        "Los estudios sobre las preferencias de los oyentes permiten a los artistas conocer a su audiencia y cómo se comporta.\n",
        "Los datos sobre los oyentes mensuales ayudan a los artistas a saber el alcance y la participación de su audiencia.\n",
        "Los datos sobre los oyentes permiten a los artistas mejorar su visibilidad y compensación.\n",
        "\n",
        "**¿Cómo ayuda a los oyentes las plataformas digitales?**\n",
        "\n",
        "Los estudios sobre las preferencias de los oyentes permiten a las plataformas mejorar la experiencia del usuario.\n",
        "Los estudios sobre las preferencias de los oyentes permiten a las plataformas promover la diversidad musical.\n",
        "Los estudios sobre las preferencias de los oyentes permiten a las plataformas adaptar las ofertas y experiencias a cada aficionado.\n",
        "Importancia para la industria musical\n",
        "Los estudios sobre las preferencias de los oyentes permiten a la industria musical comprender cómo el streaming afecta a los artistas, sellos discográficos y otros actores.\n",
        "\n",
        "\n"
      ],
      "metadata": {
        "id": "YEAoz86X9ee8"
      }
    },
    {
      "cell_type": "markdown",
      "source": [
        "# **HIPÓTESIS**\n",
        "Hipótesis nula (H₀): No existe una diferencia significativa en el tiempo de escucha diario entre los usuarios con suscripción gratuita y los usuarios con suscripción de pago en plataformas de streaming musical.\n",
        "\n",
        "Hipótesis alternativa (H₁): Los usuarios con suscripción de pago (premium) escuchan música durante más tiempo al día en comparación con los usuarios con suscripción gratuita en plataformas de streaming musical."
      ],
      "metadata": {
        "id": "Dik6gfNt9i4Y"
      }
    },
    {
      "cell_type": "markdown",
      "source": [
        "# **METODOLOGÍA**\n",
        "***1 - Definición de variables***\n",
        "\n",
        "Primero se establecerán la variable dependiente (Y) como Minutes Streamed Per Day y la variable independiente (X) como subscription Type.\n",
        "\n",
        "***2 - Análisis de los datos***\n",
        "\n",
        "Se realizará un diagrama de dispersión de datos para que sea más fácil visualizar si existe una relación entre la variable independiente y la dependiente. Al igual que poder identificar si existen patrones, tendencias y una relación lineal.\n",
        "\n",
        "***3 - Recta de regresión***\n",
        "\n",
        "Se ajustará un modelo de regresión lineal simple con la siguiente fórmula:\n",
        "\n",
        "$$ \\hat{Y} = b_0 + b_1 X $$\n",
        "\n",
        "donde $\\hat{Y}$ representa el valor de $Y$ obtenido mediante la recta de regresión ajustada (no la verdadera $Y$). Los estadísticos $b_0$ y $b_1$ se calculan de la siguiente manera:\n",
        "\n",
        "$$b_1 = \\frac{S_{xy}}{S_{xx}}$$\n",
        "\n",
        "$$ b_0 = \\bar{Y} - b_1 \\bar{X} $$\n",
        "\n",
        "***4 - Coeficiente de correlación y determinación***\n",
        "\n",
        "Se calculará el coeficiente de correlación para conocer si existe una relación entre las dos variables, al igual que para determinar si existe una relación lineal entre ellas y en qué sentido.\n",
        "\n",
        "Posteriormente se calculará el coeficiente de determinación para poder evaluar la variabilidad de la distancia entre los puntos de la gráfica.\n",
        "\n",
        "***5 - Intervalos de confianza***\n",
        "\n",
        "Con un intervalo de confianza del 95% se evaluarán los coeficientes β\n",
        "0\n",
        "​\n",
        "  (intercepto) y\n",
        "𝛽\n",
        "1\n",
        "β\n",
        "1\n",
        "​\n",
        "  (pendiente) para poder evaluar la incertidumbre en la estimación de los parámetros y detrminar si la pendiente es muy distinta de cero.\n",
        "\n",
        "  ***6 - Análisis de los residuales***\n",
        "\n",
        "  Se realizará un análisis de lo s residuales para poder verificar los supuestos del modelo de regresión (normalidad de los residuos, homoscedasticidad, etc.)\n",
        "\n",
        "\n",
        "\n",
        "\n"
      ],
      "metadata": {
        "id": "f94WCcax9nZs"
      }
    },
    {
      "cell_type": "code",
      "source": [
        "import pandas as pd\n",
        "import numpy as np\n",
        "import matplotlib.pyplot as plt\n",
        "import statsmodels.api as sm\n",
        "from sklearn.preprocessing import LabelEncoder\n",
        "\n",
        "df = pd.read_csv(\"https://raw.githubusercontent.com/Taneyquezada/Estadistica/refs/heads/main/Global_Music_Streaming_Listener_Preferences.csv\")\n",
        "df.dropna(inplace = True)\n",
        "\n",
        "# Convertir la variable categórica a numérica\n",
        "label_encoder = LabelEncoder()\n",
        "df[\"Subscription Type\"] = label_encoder.fit_transform(df[\"Subscription Type\"])  # Free = 0, Premium = 1\n",
        "\n",
        "#Se establecen las variables\n",
        "print(\"Se establece la variable dependiente (Y) como Minutes Streamed Per Day y la variable independiente (X) como Subscription Type.\")\n",
        "X = df[\"Subscription Type\"] #Variable independiente\n",
        "Y = df[\"Minutes Streamed Per Day\"] #Variable dependiente\n",
        "print(\"\\n\")\n",
        "\n",
        "#Diagrama de dispersión de datos\n",
        "plt.scatter(X, Y, color = \"green\")\n",
        "plt.xlabel(\"Subscription Type\", color = \"blue\")\n",
        "plt.ylabel(\"Minutes Streamed Per Day\", color =\"blue\")\n",
        "ax = plt.gca()\n",
        "ax.spines[\"top\"].set_visible(False)\n",
        "ax.spines[\"right\"].set_visible(False)\n",
        "\n",
        "#Recta de regresión ajustada\n",
        "x_constante = sm.add_constant(X)\n",
        "modelo = sm.OLS(Y, x_constante).fit()\n",
        "b0, b1 = modelo.params\n",
        "Yc = b0 + b1 * X\n",
        "plt.scatter(X, Y, color=\"green\", label=\"Datos reales\")  # Datos originales\n",
        "plt.plot(X, Yc, color=\"black\", linestyle=\"--\", label=\"Recta ajustada\")  # Recta de regresión\n",
        "plt.xlabel(\"Subscription Type\", color=\"blue\")\n",
        "plt.ylabel(\"Minutes Streamed Per Day\", color=\"blue\")\n",
        "plt.xticks([0, 1], [\"Free\", \"Premium\"])  # Etiquetas para los valores de X\n",
        "plt.legend()\n",
        "plt.show()\n",
        "\n",
        "#Coeficiente de correlación\n",
        "Sxx = np.sum((X-np.mean(X))**2)\n",
        "Sxy = np.sum((Y - np.mean(Y))*(X - np.mean(X)))\n",
        "Syy = np.sum((Y - np.mean(Y))**2)\n",
        "r = Sxy / np.sqrt(Sxx * Syy)\n",
        "print(\" \\nEl coeficiente de correlación es:\", r)\n",
        "\n",
        "# Coeficiente de determinación\n",
        "print(f\"\\nCoeficiente de determinación: {r**2: 0.4f}\")\n",
        "\n",
        "#Intervalo de confianza del 95% para β_1 y β_0\n",
        "nivel_de_significancia = 0.05\n",
        "from scipy.stats import t\n",
        "df = pd.DataFrame(X)\n",
        "T = t.ppf(1 - nivel_de_significancia /2,df = X.size - 2)\n",
        "se_b1 = np.sqrt(np.sum((Y - Yc)**2) / (Y.size - 2)) / np.sqrt(Sxx)\n",
        "confianza_b1 = b1 - T * se_b1, b1 + T * se_b1\n",
        "print(f\"\\nintervalo de confianza {1 - nivel_de_significancia: 0.0%}\")\n",
        "print(f\"{confianza_b1[0] : 0.4f} < b1 < {confianza_b1[1] : 0.4f} \\n\")\n",
        "b0 = np.mean(Y) - b1 * np.mean(X)\n",
        "print(f\"b0: {b0: 0.4f} \\n\")\n",
        "\n",
        "\n",
        "#Gráfico de residuales\n",
        "plt.figure()\n",
        "residuales = Y - Yc\n",
        "plt.scatter(X, residuales, color = \"red\")\n",
        "plt.xlabel(\"Subscription Type\")\n",
        "plt.ylabel(\"Minutes Streamed Per Day\")\n",
        "ax = plt.gca()\n",
        "ax.spines[\"top\"].set_visible(False)\n",
        "ax.spines[\"right\"].set_visible(False)\n",
        "plt.axhline(y = 0, color = \"gray\", linestyle = \"--\")\n",
        "plt.show()\n",
        "print(\"\\n\")\n"
      ],
      "metadata": {
        "id": "hjLg7VZ9t41K",
        "colab": {
          "base_uri": "https://localhost:8080/",
          "height": 1000
        },
        "outputId": "16e87b37-a299-4bf3-bb90-8f38eab67cf3"
      },
      "execution_count": 17,
      "outputs": [
        {
          "output_type": "stream",
          "name": "stdout",
          "text": [
            "Se establece la variable dependiente (Y) como Minutes Streamed Per Day y la variable independiente (X) como Subscription Type.\n",
            "\n",
            "\n"
          ]
        },
        {
          "output_type": "display_data",
          "data": {
            "text/plain": [
              "<Figure size 640x480 with 1 Axes>"
            ],
            "image/png": "[encoded data removed]"
          },
          "metadata": {}
        },
        {
          "output_type": "stream",
          "name": "stdout",
          "text": [
            " \n",
            "El coeficiente de correlación es: -0.0019817459816291\n",
            "\n",
            "Coeficiente de determinación:  0.0000\n",
            "\n",
            "intervalo de confianza  95%\n",
            "-10.2222 < b1 <  8.8586 \n",
            "\n",
            "b0:  309.5816 \n",
            "\n"
          ]
        },
        {
          "output_type": "display_data",
          "data": {
            "text/plain": [
              "<Figure size 640x480 with 1 Axes>"
            ],
            "image/png": "[encoded data removed]"
          },
          "metadata": {}
        },
        {
          "output_type": "stream",
          "name": "stdout",
          "text": [
            "\n",
            "\n"
          ]
        }
      ]
    },
    {
      "cell_type": "markdown",
      "source": [
        "# **RESULTADO**\n",
        "\n",
        "Para la gráfica de dispersión de datos encontramos que la dispersión de datos en ambas categorías es alta, por lo que los minutos reproducidos varían mucho dentro de cada grupo, por lo que no hay una tendencia entre el tipo de suscripción, ya sea de paga o gratuita.\n",
        "\n",
        "La recta de regresión ajustada se encuentra de forma horizontal mientras que los datos de las variables se encuentran de forma horizontal, por lo que se da a entender que no hay relación entre el tiempo reproducido de música y el tipo de suscripción que se maneja.\n",
        "\n",
        "Al calcular el coeficiente de correlación el resultado es de -0.00198, un valor muy cercano a 0, lo que confirma lo antes mencionado que no hay una relación lineal entre la variable independiente y la dependiente. La relación es prácticamente inexistente.\n",
        "\n",
        "El resultado del coeficiente de determinación es de 0.0000, el cual mide la variabilidad de las variables. Un valor de 0.0000 indica que el tipo de suscripción no influye en el tiempo de minutos reproducidos. No explica para nada la variabilidad.\n",
        "\n",
        "Con el intervalo de confianza al 95% damos con estos resultados: -10.2222 < b1 <  8.8586, lo que indica que la pendiente b1 se encuentra entre -10.22 y 8.86. El intervalo invluye el cero, por lo qiue no podemos decir que la pendiente sea diferente a 0.\n",
        "\n",
        "b0 siendo el intercepto y con un resultado de 309.5816. Representa los valores de Minures Streamed Per Day, cuando X = 0. Significa que los usuarios con el tipo de suscripción gratuita reproducen música en promedio 309.58 minutos por día. Como b1 no marca una diferencia, se podría decir que los usuarios con tipo de suscripción premium o de paga también reproducen música aproximadamente el mismo tiempo.\n",
        "\n",
        "Después de analizar estos datos, podemos dar por entendido que se acepta la hipótesis nula (H0) ya que realmente no existe una diferencia significativa en el tiempo de reproducción musical diario entre los usuarios con suscripción gratuita y de pago.\n",
        "\n",
        "Se rechaza la hipótesis alternativa (H1) ya que no hay evidencia suficiente para afirmar que los usuarios con suscripción premium tienen más minutos de reproducción que los que tienen una suscripción gratuita."
      ],
      "metadata": {
        "id": "pkjwERvi9sIw"
      }
    },
    {
      "cell_type": "markdown",
      "source": [
        "# **CONCLUSIÓN**\n",
        "\n",
        "En este estudio se analizó la relación entre el tipo de suscripción que manejan los usuarios y el tiempo de reproducción musical diario, con el onjeticvo de ver si existe alguna diferencia y relación entre estas dos variables.\n",
        "\n",
        "Dado que los resultados estadísticos no muestran una diferencia, se acepta la hipótesis nula (h0) y se rechaza la hipótesis alternativa (H1). El tipo de suscripción no es un factor en el consumo de música en plataformas digitales. Probablemente si analizamos las demás variables de nuestra base de datos (edad, país, plataforma, género de música, número de canciones en biblioteca, artista más escuchado, etc.) se podría ver alguna relación y tener un mayor impacto con el tiempo de música reproducido."
      ],
      "metadata": {
        "id": "ImBQBR9M9t6b"
      }
    }
  ]
}